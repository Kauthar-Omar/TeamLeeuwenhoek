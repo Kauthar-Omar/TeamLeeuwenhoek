{
 "cells": [
  {
   "cell_type": "code",
   "execution_count": 35,
   "metadata": {},
   "outputs": [],
   "source": [
    "name = ( \"Nishtha Malhotra\" )"
   ]
  },
  {
   "cell_type": "code",
   "execution_count": 36,
   "metadata": {},
   "outputs": [],
   "source": [
    "email = ( \"nishtham17@gmail.com\" )"
   ]
  },
  {
   "cell_type": "code",
   "execution_count": 37,
   "metadata": {},
   "outputs": [],
   "source": [
    "slack_username = ( \"@Nishtha\" )"
   ]
  },
  {
   "cell_type": "code",
   "execution_count": 38,
   "metadata": {},
   "outputs": [],
   "source": [
    "biostack = ( \"genomics/transcriptomics/data science/software development/vaccine informatics\" )"
   ]
  },
  {
   "cell_type": "code",
   "execution_count": 39,
   "metadata": {},
   "outputs": [],
   "source": [
    "twitter_handle = ( \"@nishu_malhotra\" )"
   ]
  },
  {
   "cell_type": "code",
   "execution_count": 46,
   "metadata": {},
   "outputs": [],
   "source": [
    "def hamming_distance(slack_username, twitter_handle):\n",
    "    i = 0\n",
    "    count = 0\n",
    "    \n",
    "    while (i < len(slack_username)) :\n",
    "        if (slack_username[i] != twitter_handle[i]) :\n",
    "             count += 1\n",
    "        i += 1 \n",
    "    return count"
   ]
  },
  {
   "cell_type": "code",
   "execution_count": 47,
   "metadata": {},
   "outputs": [
    {
     "name": "stdout",
     "output_type": "stream",
     "text": [
      "Nishtha Malhotra,nishtham17@gmail.com,@Nishtha,genomics/transcriptomics/data science/software development/vaccine informatics,@nishu_malhotra,4\n"
     ]
    }
   ],
   "source": [
    "print ( name , email , slack_username , biostack , twitter_handle , hamming_distance(slack_username, twitter_handle), sep = ',' )"
   ]
  },
  {
   "cell_type": "code",
   "execution_count": null,
   "metadata": {},
   "outputs": [],
   "source": []
  }
 ],
 "metadata": {
  "kernelspec": {
   "display_name": "Python 3",
   "language": "python",
   "name": "python3"
  },
  "language_info": {
   "codemirror_mode": {
    "name": "ipython",
    "version": 3
   },
   "file_extension": ".py",
   "mimetype": "text/x-python",
   "name": "python",
   "nbconvert_exporter": "python",
   "pygments_lexer": "ipython3",
   "version": "3.8.3"
  }
 },
 "nbformat": 4,
 "nbformat_minor": 4
}
