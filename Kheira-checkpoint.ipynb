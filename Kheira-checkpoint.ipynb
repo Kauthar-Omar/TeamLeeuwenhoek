{
 "cells": [
  {
   "cell_type": "code",
   "execution_count": 20,
   "metadata": {},
   "outputs": [
    {
     "name": "stdout",
     "output_type": "stream",
     "text": [
      "Name: Kheira Lakhdari - Email: kirabasma12@gmail.com - Slackid: @Kheira - Biostack: software development / Data science -\n"
     ]
    }
   ],
   "source": [
    "name= 'Name: Kheira Lakhdari -'\n",
    "email= 'Email: kirabasma12@gmail.com -'\n",
    "slack= 'Slackid: @Kheira -'\n",
    "biostack= 'Biostack: software development / Data science -'\n",
    "\n",
    "print (name, email, slack, biostack)"
   ]
  },
  {
   "cell_type": "code",
   "execution_count": null,
   "metadata": {},
   "outputs": [],
   "source": []
  },
  {
   "cell_type": "code",
   "execution_count": null,
   "metadata": {},
   "outputs": [],
   "source": [
    "\n"
   ]
  },
  {
   "cell_type": "code",
   "execution_count": null,
   "metadata": {},
   "outputs": [],
   "source": []
  },
  {
   "cell_type": "code",
   "execution_count": null,
   "metadata": {},
   "outputs": [],
   "source": []
  }
 ],
 "metadata": {
  "kernelspec": {
   "display_name": "test",
   "language": "python",
   "name": "test"
  },
  "language_info": {
   "codemirror_mode": {
    "name": "ipython",
    "version": 3
   },
   "file_extension": ".py",
   "mimetype": "text/x-python",
   "name": "python",
   "nbconvert_exporter": "python",
   "pygments_lexer": "ipython3",
   "version": "3.6.9"
  }
 },
 "nbformat": 4,
 "nbformat_minor": 2
}
